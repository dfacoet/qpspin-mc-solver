{
 "cells": [
  {
   "cell_type": "code",
   "execution_count": null,
   "metadata": {},
   "outputs": [],
   "source": [
    "import time\n",
    "from multiprocessing import Pool\n",
    "\n",
    "import matplotlib.pyplot as plt\n",
    "import numpy as np\n",
    "import pandas as pd\n",
    "\n",
    "from qpspin_mc.two_level_system import (\n",
    "    SimulationParameters,\n",
    "    SystemParameters,\n",
    "    TwoLevelSystemSimulator,\n",
    ")"
   ]
  },
  {
   "cell_type": "markdown",
   "metadata": {},
   "source": [
    "# Magnetization as a function of $\\Gamma$"
   ]
  },
  {
   "cell_type": "code",
   "execution_count": null,
   "metadata": {},
   "outputs": [],
   "source": [
    "gammas = np.concatenate((np.linspace(0.001, 0.8, 4), np.linspace(1, 5, 8)))\n",
    "beta = 2\n",
    "h = 1\n",
    "\n",
    "SEED = 5518\n",
    "N_SAMPLES = 1_000\n",
    "N_THINNING = 10\n",
    "N_INIT_STEPS = 100 * N_THINNING\n",
    "\n",
    "m_estimates = []\n",
    "m_errs = []\n",
    "l_samples = {}\n",
    "acc_rates = []\n",
    "\n",
    "for i, g in enumerate(gammas):\n",
    "    system_parameters = SystemParameters(beta=beta, h=h, gamma=g)\n",
    "\n",
    "    simulation_parameters = SimulationParameters(\n",
    "        n_samples=N_SAMPLES,\n",
    "        n_thinning=N_THINNING,\n",
    "        n_init_steps=N_INIT_STEPS,\n",
    "        seed=[i, SEED],\n",
    "    )\n",
    "\n",
    "    mc_result = TwoLevelSystemSimulator(system_parameters=system_parameters).run_mc(\n",
    "        simulation_parameters\n",
    "    )\n",
    "    m_hat, m_sem = mc_result.estimate_magnetization()\n",
    "    m_estimates.append(m_hat)\n",
    "    m_errs.append(m_sem)\n",
    "    l_samples[g] = [len(s) for s in mc_result.samples]\n",
    "    acc_rates.append(mc_result.acceptance_rate())\n",
    "\n",
    "m_estimates = np.array(m_estimates)\n",
    "m_errs = np.array(m_errs)\n",
    "acc_rates = np.array(acc_rates)"
   ]
  },
  {
   "cell_type": "code",
   "execution_count": null,
   "metadata": {},
   "outputs": [],
   "source": [
    "gs = np.linspace(gammas.min(), gammas.max(), 100)\n",
    "bs = np.sqrt(h**2 + gs**2)\n",
    "m_exact = gs / bs * np.tanh(beta * bs)\n",
    "\n",
    "\n",
    "fig, ax = plt.subplots()\n",
    "ax.plot(gs, m_exact, label=\"Exact\")\n",
    "ax.errorbar(gammas, m_estimates, yerr=m_errs, fmt=\".\", label=\"MC estimate\")\n",
    "ax.plot(gammas, acc_rates, \"kx\", label=\"Acceptance rate\")\n",
    "ax.legend()"
   ]
  },
  {
   "cell_type": "markdown",
   "metadata": {},
   "source": [
    "# Error and run time as a function of the number of samples"
   ]
  },
  {
   "cell_type": "code",
   "execution_count": null,
   "metadata": {},
   "outputs": [],
   "source": [
    "gamma = 1\n",
    "beta = 1\n",
    "h = 1\n",
    "\n",
    "NS = [10, 100, 200, 500, 1000, 2000, 4000, 6000, 8000, 10000, 20000, 50000, 100_000]\n",
    "\n",
    "SEED = 5518\n",
    "N_THINNING = 10\n",
    "N_INIT_STEPS = 10 * N_THINNING\n",
    "\n",
    "\n",
    "system_parameters = SystemParameters(beta=beta, h=h, gamma=gamma)\n",
    "\n",
    "\n",
    "def run_simulation(args):\n",
    "    i, ns = args\n",
    "    simulation_parameters = SimulationParameters(\n",
    "        n_samples=ns,\n",
    "        n_thinning=N_THINNING,\n",
    "        n_init_steps=N_INIT_STEPS,\n",
    "        seed=[i, SEED],\n",
    "    )\n",
    "\n",
    "    st = time.perf_counter()\n",
    "    mc_result = TwoLevelSystemSimulator(system_parameters=system_parameters).run_mc(\n",
    "        simulation_parameters\n",
    "    )\n",
    "    et = time.perf_counter()\n",
    "    m_hat, m_sem = mc_result.estimate_magnetization()\n",
    "    return {\"m_est\": m_hat, \"m_sem\": m_sem, \"time\": et - st}\n",
    "\n",
    "\n",
    "with Pool(processes=6) as pool:\n",
    "    results = pd.DataFrame(pool.map(run_simulation, enumerate(NS)))"
   ]
  },
  {
   "cell_type": "code",
   "execution_count": null,
   "metadata": {},
   "outputs": [],
   "source": [
    "m_exact = gamma / np.sqrt(h**2 + gamma**2) * np.tanh(beta * np.sqrt(h**2 + gamma**2))\n",
    "\n",
    "fig, axes = plt.subplots(3, sharex=True, figsize=(6, 8))\n",
    "\n",
    "axes[0].errorbar(\n",
    "    NS, results[\"m_est\"], yerr=results[\"m_sem\"], fmt=\".\", label=\"MC estimate\"\n",
    ")\n",
    "axes[0].axhline(m_exact, color=\"k\", label=\"Exact\")\n",
    "axes[0].set_ylabel(\"Magnetization\")\n",
    "axes[0].legend()\n",
    "\n",
    "axes[1].loglog(NS, results[\"m_sem\"] / NS, \"o\")\n",
    "axes[1].set_ylabel(\"MC relative error (SEM/mean)\")\n",
    "ax2 = axes[1].twinx()\n",
    "ax2.loglog(NS, results[\"time\"], \"r.--\", label=\"Time\")\n",
    "ax2.set_ylabel(\"Time (s)\", color=\"r\")\n",
    "ax2.tick_params(axis=\"y\")\n",
    "axes[2].plot(NS, np.abs(results[\"m_est\"] - m_exact) / results[\"m_sem\"], \"o\")\n",
    "axes[2].set_ylabel(\"# SEMs away from true value\")\n",
    "axes[2].set_xlim(xmin=0)"
   ]
  },
  {
   "cell_type": "code",
   "execution_count": null,
   "metadata": {},
   "outputs": [],
   "source": []
  }
 ],
 "metadata": {
  "kernelspec": {
   "display_name": ".venv",
   "language": "python",
   "name": "python3"
  },
  "language_info": {
   "codemirror_mode": {
    "name": "ipython",
    "version": 3
   },
   "file_extension": ".py",
   "mimetype": "text/x-python",
   "name": "python",
   "nbconvert_exporter": "python",
   "pygments_lexer": "ipython3"
  }
 },
 "nbformat": 4,
 "nbformat_minor": 2
}
