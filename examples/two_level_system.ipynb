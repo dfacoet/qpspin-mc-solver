{
 "cells": [
  {
   "cell_type": "code",
   "execution_count": 1,
   "metadata": {},
   "outputs": [],
   "source": [
    "import matplotlib.pyplot as plt\n",
    "import numpy as np\n",
    "\n",
    "from qpspin_mc.two_level_system import SimulationParameters, SystemParameters, TwoLevelSystemSimulator"
   ]
  },
  {
   "cell_type": "code",
   "execution_count": 2,
   "metadata": {},
   "outputs": [],
   "source": [
    "gammas = np.linspace(0.001, 5, 10)\n",
    "beta = 1\n",
    "h = 1\n",
    "\n",
    "SEED = 551818\n",
    "N_STEPS = 100_000\n",
    "N_SAMPLES = 1_000\n",
    "N_INIT_STEPS = 1_000"
   ]
  },
  {
   "cell_type": "code",
   "execution_count": 3,
   "metadata": {},
   "outputs": [],
   "source": [
    "m_estimates = []\n",
    "m_errs = []\n",
    "acc_rates = []\n",
    "\n",
    "for i, g in enumerate(gammas):\n",
    "    system_parameters = SystemParameters(beta=beta, h=h, gamma=g)\n",
    "\n",
    "    simulation_parameters = SimulationParameters(\n",
    "        n_steps=N_STEPS, n_samples=N_SAMPLES, n_init_steps=N_INIT_STEPS, seed=[i, SEED]\n",
    "    )\n",
    "\n",
    "    mc_result = TwoLevelSystemSimulator(system_parameters=system_parameters).run_mc(\n",
    "        simulation_parameters\n",
    "    )\n",
    "    m_hat, m_sem = mc_result.estimate_magnetization()\n",
    "    m_estimates.append(m_hat)\n",
    "    m_errs.append(m_sem)\n",
    "    acc_rates.append(mc_result.acceptance_rate())\n",
    "\n",
    "m_estimates = np.array(m_estimates)\n",
    "m_errs = np.array(m_errs)\n",
    "acc_rates = np.array(acc_rates)"
   ]
  },
  {
   "cell_type": "code",
   "execution_count": null,
   "metadata": {},
   "outputs": [],
   "source": [
    "gs = np.linspace(gammas.min(), gammas.max(), 100)\n",
    "bs = np.sqrt(h**2 + gs**2)\n",
    "m_exact = beta * gs**2 / bs**2  * np.tanh(beta * bs)\n",
    "\n",
    "\n",
    "fig, ax = plt.subplots()\n",
    "ax.plot(gs, m_exact, label=\"Exact\")\n",
    "ax.errorbar(gammas, m_estimates, yerr=m_errs, fmt=\".\", label=\"MC estimate\")\n",
    "ax.plot(gammas, acc_rates, \"kx\", label=\"Acceptance rate\")\n",
    "ax.legend()"
   ]
  }
 ],
 "metadata": {
  "kernelspec": {
   "display_name": ".venv",
   "language": "python",
   "name": "python3"
  },
  "language_info": {
   "codemirror_mode": {
    "name": "ipython",
    "version": 3
   },
   "file_extension": ".py",
   "mimetype": "text/x-python",
   "name": "python",
   "nbconvert_exporter": "python",
   "pygments_lexer": "ipython3",
   "version": "3.13.1"
  }
 },
 "nbformat": 4,
 "nbformat_minor": 2
}
